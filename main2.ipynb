{
 "cells": [
  {
   "cell_type": "code",
   "execution_count": 1,
   "metadata": {},
   "outputs": [
    {
     "name": "stderr",
     "output_type": "stream",
     "text": [
      "Using TensorFlow backend.\n"
     ]
    }
   ],
   "source": [
    "import numpy as np\n",
    "import pandas as pd\n",
    "import matplotlib.pyplot as plt\n",
    "import seaborn as sns\n",
    "from sklearn.model_selection import StratifiedKFold, GroupKFold\n",
    "from sklearn.model_selection import train_test_split\n",
    "from sklearn.preprocessing import StandardScaler\n",
    "from tqdm import tqdm\n",
    "from sklearn.preprocessing import LabelEncoder\n",
    "from tqdm import tqdm\n",
    "import missingno\n",
    "import pandas_profiling as pp\n",
    "\n",
    "from xgboost.sklearn import XGBClassifier\n",
    "\n",
    "from sklearn.model_selection import StratifiedKFold\n",
    "from sklearn.ensemble import RandomForestClassifier\n",
    "from sklearn.neighbors import KNeighborsClassifier\n",
    "\n",
    "from keras.models import Sequential\n",
    "from keras.layers import Dense, Dropout\n",
    "from keras.utils import to_categorical\n",
    "from keras.metrics import accuracy"
   ]
  },
  {
   "cell_type": "markdown",
   "metadata": {},
   "source": [
    "# Load the Data"
   ]
  },
  {
   "cell_type": "code",
   "execution_count": 2,
   "metadata": {},
   "outputs": [
    {
     "name": "stdout",
     "output_type": "stream",
     "text": [
      "df_train shape = (487680, 13)\n"
     ]
    },
    {
     "data": {
      "text/html": [
       "<div>\n",
       "<style scoped>\n",
       "    .dataframe tbody tr th:only-of-type {\n",
       "        vertical-align: middle;\n",
       "    }\n",
       "\n",
       "    .dataframe tbody tr th {\n",
       "        vertical-align: top;\n",
       "    }\n",
       "\n",
       "    .dataframe thead th {\n",
       "        text-align: right;\n",
       "    }\n",
       "</style>\n",
       "<table border=\"1\" class=\"dataframe\">\n",
       "  <thead>\n",
       "    <tr style=\"text-align: right;\">\n",
       "      <th></th>\n",
       "      <th>row_id</th>\n",
       "      <th>series_id</th>\n",
       "      <th>measurement_number</th>\n",
       "      <th>orientation_X</th>\n",
       "      <th>orientation_Y</th>\n",
       "      <th>orientation_Z</th>\n",
       "      <th>orientation_W</th>\n",
       "      <th>angular_velocity_X</th>\n",
       "      <th>angular_velocity_Y</th>\n",
       "      <th>angular_velocity_Z</th>\n",
       "      <th>linear_acceleration_X</th>\n",
       "      <th>linear_acceleration_Y</th>\n",
       "      <th>linear_acceleration_Z</th>\n",
       "    </tr>\n",
       "  </thead>\n",
       "  <tbody>\n",
       "    <tr>\n",
       "      <th>0</th>\n",
       "      <td>0_0</td>\n",
       "      <td>0</td>\n",
       "      <td>0</td>\n",
       "      <td>-0.75853</td>\n",
       "      <td>-0.63435</td>\n",
       "      <td>-0.10488</td>\n",
       "      <td>-0.10597</td>\n",
       "      <td>0.107650</td>\n",
       "      <td>0.017561</td>\n",
       "      <td>0.000767</td>\n",
       "      <td>-0.74857</td>\n",
       "      <td>2.1030</td>\n",
       "      <td>-9.7532</td>\n",
       "    </tr>\n",
       "    <tr>\n",
       "      <th>1</th>\n",
       "      <td>0_1</td>\n",
       "      <td>0</td>\n",
       "      <td>1</td>\n",
       "      <td>-0.75853</td>\n",
       "      <td>-0.63434</td>\n",
       "      <td>-0.10490</td>\n",
       "      <td>-0.10600</td>\n",
       "      <td>0.067851</td>\n",
       "      <td>0.029939</td>\n",
       "      <td>0.003385</td>\n",
       "      <td>0.33995</td>\n",
       "      <td>1.5064</td>\n",
       "      <td>-9.4128</td>\n",
       "    </tr>\n",
       "    <tr>\n",
       "      <th>2</th>\n",
       "      <td>0_2</td>\n",
       "      <td>0</td>\n",
       "      <td>2</td>\n",
       "      <td>-0.75853</td>\n",
       "      <td>-0.63435</td>\n",
       "      <td>-0.10492</td>\n",
       "      <td>-0.10597</td>\n",
       "      <td>0.007275</td>\n",
       "      <td>0.028934</td>\n",
       "      <td>-0.005978</td>\n",
       "      <td>-0.26429</td>\n",
       "      <td>1.5922</td>\n",
       "      <td>-8.7267</td>\n",
       "    </tr>\n",
       "    <tr>\n",
       "      <th>3</th>\n",
       "      <td>0_3</td>\n",
       "      <td>0</td>\n",
       "      <td>3</td>\n",
       "      <td>-0.75852</td>\n",
       "      <td>-0.63436</td>\n",
       "      <td>-0.10495</td>\n",
       "      <td>-0.10597</td>\n",
       "      <td>-0.013053</td>\n",
       "      <td>0.019448</td>\n",
       "      <td>-0.008974</td>\n",
       "      <td>0.42684</td>\n",
       "      <td>1.0993</td>\n",
       "      <td>-10.0960</td>\n",
       "    </tr>\n",
       "    <tr>\n",
       "      <th>4</th>\n",
       "      <td>0_4</td>\n",
       "      <td>0</td>\n",
       "      <td>4</td>\n",
       "      <td>-0.75852</td>\n",
       "      <td>-0.63435</td>\n",
       "      <td>-0.10495</td>\n",
       "      <td>-0.10596</td>\n",
       "      <td>0.005135</td>\n",
       "      <td>0.007652</td>\n",
       "      <td>0.005245</td>\n",
       "      <td>-0.50969</td>\n",
       "      <td>1.4689</td>\n",
       "      <td>-10.4410</td>\n",
       "    </tr>\n",
       "  </tbody>\n",
       "</table>\n",
       "</div>"
      ],
      "text/plain": [
       "  row_id  series_id  measurement_number  orientation_X  orientation_Y  \\\n",
       "0    0_0          0                   0       -0.75853       -0.63435   \n",
       "1    0_1          0                   1       -0.75853       -0.63434   \n",
       "2    0_2          0                   2       -0.75853       -0.63435   \n",
       "3    0_3          0                   3       -0.75852       -0.63436   \n",
       "4    0_4          0                   4       -0.75852       -0.63435   \n",
       "\n",
       "   orientation_Z  orientation_W  angular_velocity_X  angular_velocity_Y  \\\n",
       "0       -0.10488       -0.10597            0.107650            0.017561   \n",
       "1       -0.10490       -0.10600            0.067851            0.029939   \n",
       "2       -0.10492       -0.10597            0.007275            0.028934   \n",
       "3       -0.10495       -0.10597           -0.013053            0.019448   \n",
       "4       -0.10495       -0.10596            0.005135            0.007652   \n",
       "\n",
       "   angular_velocity_Z  linear_acceleration_X  linear_acceleration_Y  \\\n",
       "0            0.000767               -0.74857                 2.1030   \n",
       "1            0.003385                0.33995                 1.5064   \n",
       "2           -0.005978               -0.26429                 1.5922   \n",
       "3           -0.008974                0.42684                 1.0993   \n",
       "4            0.005245               -0.50969                 1.4689   \n",
       "\n",
       "   linear_acceleration_Z  \n",
       "0                -9.7532  \n",
       "1                -9.4128  \n",
       "2                -8.7267  \n",
       "3               -10.0960  \n",
       "4               -10.4410  "
      ]
     },
     "execution_count": 2,
     "metadata": {},
     "output_type": "execute_result"
    }
   ],
   "source": [
    "# Read and view train file\n",
    "df_train = pd.read_csv(\"X_train.csv\")\n",
    "print('df_train shape = ' + str(df_train.shape)) # 487680/128 = 3810 rows\n",
    "df_train.head()"
   ]
  },
  {
   "cell_type": "code",
   "execution_count": 3,
   "metadata": {},
   "outputs": [
    {
     "data": {
      "text/plain": [
       "<matplotlib.axes._subplots.AxesSubplot at 0x1097ceb00>"
      ]
     },
     "execution_count": 3,
     "metadata": {},
     "output_type": "execute_result"
    },
    {
     "data": {
      "image/png": "[encoded data removed]",
      "text/plain": [
       "<Figure size 1728x720 with 3 Axes>"
      ]
     },
     "metadata": {},
     "output_type": "display_data"
    }
   ],
   "source": [
    "missingno.bar(df_train)"
   ]
  },
  {
   "cell_type": "code",
   "execution_count": 4,
   "metadata": {
    "scrolled": false
   },
   "outputs": [
    {
     "name": "stdout",
     "output_type": "stream",
     "text": [
      "df_test shape = (488448, 13)\n"
     ]
    },
    {
     "data": {
      "text/html": [
       "<div>\n",
       "<style scoped>\n",
       "    .dataframe tbody tr th:only-of-type {\n",
       "        vertical-align: middle;\n",
       "    }\n",
       "\n",
       "    .dataframe tbody tr th {\n",
       "        vertical-align: top;\n",
       "    }\n",
       "\n",
       "    .dataframe thead th {\n",
       "        text-align: right;\n",
       "    }\n",
       "</style>\n",
       "<table border=\"1\" class=\"dataframe\">\n",
       "  <thead>\n",
       "    <tr style=\"text-align: right;\">\n",
       "      <th></th>\n",
       "      <th>row_id</th>\n",
       "      <th>series_id</th>\n",
       "      <th>measurement_number</th>\n",
       "      <th>orientation_X</th>\n",
       "      <th>orientation_Y</th>\n",
       "      <th>orientation_Z</th>\n",
       "      <th>orientation_W</th>\n",
       "      <th>angular_velocity_X</th>\n",
       "      <th>angular_velocity_Y</th>\n",
       "      <th>angular_velocity_Z</th>\n",
       "      <th>linear_acceleration_X</th>\n",
       "      <th>linear_acceleration_Y</th>\n",
       "      <th>linear_acceleration_Z</th>\n",
       "    </tr>\n",
       "  </thead>\n",
       "  <tbody>\n",
       "    <tr>\n",
       "      <th>0</th>\n",
       "      <td>0_0</td>\n",
       "      <td>0</td>\n",
       "      <td>0</td>\n",
       "      <td>-0.025773</td>\n",
       "      <td>-0.98864</td>\n",
       "      <td>-0.14801</td>\n",
       "      <td>0.003350</td>\n",
       "      <td>-0.006524</td>\n",
       "      <td>-0.001071</td>\n",
       "      <td>-0.027390</td>\n",
       "      <td>0.10043</td>\n",
       "      <td>4.2061</td>\n",
       "      <td>-5.5439</td>\n",
       "    </tr>\n",
       "    <tr>\n",
       "      <th>1</th>\n",
       "      <td>0_1</td>\n",
       "      <td>0</td>\n",
       "      <td>1</td>\n",
       "      <td>-0.025683</td>\n",
       "      <td>-0.98862</td>\n",
       "      <td>-0.14816</td>\n",
       "      <td>0.003439</td>\n",
       "      <td>-0.113960</td>\n",
       "      <td>0.083987</td>\n",
       "      <td>-0.060590</td>\n",
       "      <td>-0.70889</td>\n",
       "      <td>3.9905</td>\n",
       "      <td>-8.0273</td>\n",
       "    </tr>\n",
       "    <tr>\n",
       "      <th>2</th>\n",
       "      <td>0_2</td>\n",
       "      <td>0</td>\n",
       "      <td>2</td>\n",
       "      <td>-0.025617</td>\n",
       "      <td>-0.98861</td>\n",
       "      <td>-0.14826</td>\n",
       "      <td>0.003571</td>\n",
       "      <td>-0.080518</td>\n",
       "      <td>0.114860</td>\n",
       "      <td>-0.037177</td>\n",
       "      <td>1.45710</td>\n",
       "      <td>2.2828</td>\n",
       "      <td>-11.2990</td>\n",
       "    </tr>\n",
       "    <tr>\n",
       "      <th>3</th>\n",
       "      <td>0_3</td>\n",
       "      <td>0</td>\n",
       "      <td>3</td>\n",
       "      <td>-0.025566</td>\n",
       "      <td>-0.98862</td>\n",
       "      <td>-0.14817</td>\n",
       "      <td>0.003609</td>\n",
       "      <td>0.070067</td>\n",
       "      <td>0.033820</td>\n",
       "      <td>-0.035904</td>\n",
       "      <td>0.71096</td>\n",
       "      <td>1.8582</td>\n",
       "      <td>-12.2270</td>\n",
       "    </tr>\n",
       "    <tr>\n",
       "      <th>4</th>\n",
       "      <td>0_4</td>\n",
       "      <td>0</td>\n",
       "      <td>4</td>\n",
       "      <td>-0.025548</td>\n",
       "      <td>-0.98866</td>\n",
       "      <td>-0.14792</td>\n",
       "      <td>0.003477</td>\n",
       "      <td>0.152050</td>\n",
       "      <td>-0.029016</td>\n",
       "      <td>-0.015314</td>\n",
       "      <td>3.39960</td>\n",
       "      <td>2.7881</td>\n",
       "      <td>-10.4100</td>\n",
       "    </tr>\n",
       "  </tbody>\n",
       "</table>\n",
       "</div>"
      ],
      "text/plain": [
       "  row_id  series_id  measurement_number  orientation_X  orientation_Y  \\\n",
       "0    0_0          0                   0      -0.025773       -0.98864   \n",
       "1    0_1          0                   1      -0.025683       -0.98862   \n",
       "2    0_2          0                   2      -0.025617       -0.98861   \n",
       "3    0_3          0                   3      -0.025566       -0.98862   \n",
       "4    0_4          0                   4      -0.025548       -0.98866   \n",
       "\n",
       "   orientation_Z  orientation_W  angular_velocity_X  angular_velocity_Y  \\\n",
       "0       -0.14801       0.003350           -0.006524           -0.001071   \n",
       "1       -0.14816       0.003439           -0.113960            0.083987   \n",
       "2       -0.14826       0.003571           -0.080518            0.114860   \n",
       "3       -0.14817       0.003609            0.070067            0.033820   \n",
       "4       -0.14792       0.003477            0.152050           -0.029016   \n",
       "\n",
       "   angular_velocity_Z  linear_acceleration_X  linear_acceleration_Y  \\\n",
       "0           -0.027390                0.10043                 4.2061   \n",
       "1           -0.060590               -0.70889                 3.9905   \n",
       "2           -0.037177                1.45710                 2.2828   \n",
       "3           -0.035904                0.71096                 1.8582   \n",
       "4           -0.015314                3.39960                 2.7881   \n",
       "\n",
       "   linear_acceleration_Z  \n",
       "0                -5.5439  \n",
       "1                -8.0273  \n",
       "2               -11.2990  \n",
       "3               -12.2270  \n",
       "4               -10.4100  "
      ]
     },
     "execution_count": 4,
     "metadata": {},
     "output_type": "execute_result"
    }
   ],
   "source": [
    "# Read and view test file\n",
    "df_test = pd.read_csv(\"X_test.csv\")\n",
    "print('df_test shape = ' + str(df_test.shape)) # 488448/128 = 3816 rows\n",
    "df_test.head()"
   ]
  },
  {
   "cell_type": "code",
   "execution_count": 5,
   "metadata": {},
   "outputs": [
    {
     "data": {
      "text/html": [
       "<div>\n",
       "<style scoped>\n",
       "    .dataframe tbody tr th:only-of-type {\n",
       "        vertical-align: middle;\n",
       "    }\n",
       "\n",
       "    .dataframe tbody tr th {\n",
       "        vertical-align: top;\n",
       "    }\n",
       "\n",
       "    .dataframe thead th {\n",
       "        text-align: right;\n",
       "    }\n",
       "</style>\n",
       "<table border=\"1\" class=\"dataframe\">\n",
       "  <thead>\n",
       "    <tr style=\"text-align: right;\">\n",
       "      <th></th>\n",
       "      <th>series_id</th>\n",
       "      <th>measurement_number</th>\n",
       "      <th>orientation_X</th>\n",
       "      <th>orientation_Y</th>\n",
       "      <th>orientation_Z</th>\n",
       "      <th>orientation_W</th>\n",
       "      <th>angular_velocity_X</th>\n",
       "      <th>angular_velocity_Y</th>\n",
       "      <th>angular_velocity_Z</th>\n",
       "      <th>linear_acceleration_X</th>\n",
       "      <th>linear_acceleration_Y</th>\n",
       "      <th>linear_acceleration_Z</th>\n",
       "    </tr>\n",
       "  </thead>\n",
       "  <tbody>\n",
       "    <tr>\n",
       "      <th>count</th>\n",
       "      <td>487680.000000</td>\n",
       "      <td>487680.000000</td>\n",
       "      <td>487680.000000</td>\n",
       "      <td>487680.000000</td>\n",
       "      <td>487680.000000</td>\n",
       "      <td>487680.000000</td>\n",
       "      <td>487680.000000</td>\n",
       "      <td>487680.000000</td>\n",
       "      <td>487680.000000</td>\n",
       "      <td>487680.000000</td>\n",
       "      <td>487680.000000</td>\n",
       "      <td>487680.000000</td>\n",
       "    </tr>\n",
       "    <tr>\n",
       "      <th>mean</th>\n",
       "      <td>1904.500000</td>\n",
       "      <td>63.500000</td>\n",
       "      <td>-0.018050</td>\n",
       "      <td>0.075062</td>\n",
       "      <td>0.012458</td>\n",
       "      <td>-0.003804</td>\n",
       "      <td>0.000178</td>\n",
       "      <td>0.008338</td>\n",
       "      <td>-0.019184</td>\n",
       "      <td>0.129281</td>\n",
       "      <td>2.886468</td>\n",
       "      <td>-9.364886</td>\n",
       "    </tr>\n",
       "    <tr>\n",
       "      <th>std</th>\n",
       "      <td>1099.853353</td>\n",
       "      <td>36.949327</td>\n",
       "      <td>0.685696</td>\n",
       "      <td>0.708226</td>\n",
       "      <td>0.105972</td>\n",
       "      <td>0.104299</td>\n",
       "      <td>0.117764</td>\n",
       "      <td>0.088677</td>\n",
       "      <td>0.229153</td>\n",
       "      <td>1.870600</td>\n",
       "      <td>2.140067</td>\n",
       "      <td>2.845341</td>\n",
       "    </tr>\n",
       "    <tr>\n",
       "      <th>min</th>\n",
       "      <td>0.000000</td>\n",
       "      <td>0.000000</td>\n",
       "      <td>-0.989100</td>\n",
       "      <td>-0.989650</td>\n",
       "      <td>-0.162830</td>\n",
       "      <td>-0.156620</td>\n",
       "      <td>-2.371000</td>\n",
       "      <td>-0.927860</td>\n",
       "      <td>-1.268800</td>\n",
       "      <td>-36.067000</td>\n",
       "      <td>-121.490000</td>\n",
       "      <td>-75.386000</td>\n",
       "    </tr>\n",
       "    <tr>\n",
       "      <th>25%</th>\n",
       "      <td>952.000000</td>\n",
       "      <td>31.750000</td>\n",
       "      <td>-0.705120</td>\n",
       "      <td>-0.688980</td>\n",
       "      <td>-0.089466</td>\n",
       "      <td>-0.106060</td>\n",
       "      <td>-0.040752</td>\n",
       "      <td>-0.033191</td>\n",
       "      <td>-0.090743</td>\n",
       "      <td>-0.530833</td>\n",
       "      <td>1.957900</td>\n",
       "      <td>-10.193000</td>\n",
       "    </tr>\n",
       "    <tr>\n",
       "      <th>50%</th>\n",
       "      <td>1904.500000</td>\n",
       "      <td>63.500000</td>\n",
       "      <td>-0.105960</td>\n",
       "      <td>0.237855</td>\n",
       "      <td>0.031949</td>\n",
       "      <td>-0.018704</td>\n",
       "      <td>0.000084</td>\n",
       "      <td>0.005412</td>\n",
       "      <td>-0.005335</td>\n",
       "      <td>0.124980</td>\n",
       "      <td>2.879600</td>\n",
       "      <td>-9.365300</td>\n",
       "    </tr>\n",
       "    <tr>\n",
       "      <th>75%</th>\n",
       "      <td>2857.000000</td>\n",
       "      <td>95.250000</td>\n",
       "      <td>0.651803</td>\n",
       "      <td>0.809550</td>\n",
       "      <td>0.122870</td>\n",
       "      <td>0.097215</td>\n",
       "      <td>0.040527</td>\n",
       "      <td>0.048068</td>\n",
       "      <td>0.064604</td>\n",
       "      <td>0.792263</td>\n",
       "      <td>3.798800</td>\n",
       "      <td>-8.522700</td>\n",
       "    </tr>\n",
       "    <tr>\n",
       "      <th>max</th>\n",
       "      <td>3809.000000</td>\n",
       "      <td>127.000000</td>\n",
       "      <td>0.989100</td>\n",
       "      <td>0.988980</td>\n",
       "      <td>0.155710</td>\n",
       "      <td>0.154770</td>\n",
       "      <td>2.282200</td>\n",
       "      <td>1.079100</td>\n",
       "      <td>1.387300</td>\n",
       "      <td>36.797000</td>\n",
       "      <td>73.008000</td>\n",
       "      <td>65.839000</td>\n",
       "    </tr>\n",
       "  </tbody>\n",
       "</table>\n",
       "</div>"
      ],
      "text/plain": [
       "           series_id  measurement_number  orientation_X  orientation_Y  \\\n",
       "count  487680.000000       487680.000000  487680.000000  487680.000000   \n",
       "mean     1904.500000           63.500000      -0.018050       0.075062   \n",
       "std      1099.853353           36.949327       0.685696       0.708226   \n",
       "min         0.000000            0.000000      -0.989100      -0.989650   \n",
       "25%       952.000000           31.750000      -0.705120      -0.688980   \n",
       "50%      1904.500000           63.500000      -0.105960       0.237855   \n",
       "75%      2857.000000           95.250000       0.651803       0.809550   \n",
       "max      3809.000000          127.000000       0.989100       0.988980   \n",
       "\n",
       "       orientation_Z  orientation_W  angular_velocity_X  angular_velocity_Y  \\\n",
       "count  487680.000000  487680.000000       487680.000000       487680.000000   \n",
       "mean        0.012458      -0.003804            0.000178            0.008338   \n",
       "std         0.105972       0.104299            0.117764            0.088677   \n",
       "min        -0.162830      -0.156620           -2.371000           -0.927860   \n",
       "25%        -0.089466      -0.106060           -0.040752           -0.033191   \n",
       "50%         0.031949      -0.018704            0.000084            0.005412   \n",
       "75%         0.122870       0.097215            0.040527            0.048068   \n",
       "max         0.155710       0.154770            2.282200            1.079100   \n",
       "\n",
       "       angular_velocity_Z  linear_acceleration_X  linear_acceleration_Y  \\\n",
       "count       487680.000000          487680.000000          487680.000000   \n",
       "mean            -0.019184               0.129281               2.886468   \n",
       "std              0.229153               1.870600               2.140067   \n",
       "min             -1.268800             -36.067000            -121.490000   \n",
       "25%             -0.090743              -0.530833               1.957900   \n",
       "50%             -0.005335               0.124980               2.879600   \n",
       "75%              0.064604               0.792263               3.798800   \n",
       "max              1.387300              36.797000              73.008000   \n",
       "\n",
       "       linear_acceleration_Z  \n",
       "count          487680.000000  \n",
       "mean               -9.364886  \n",
       "std                 2.845341  \n",
       "min               -75.386000  \n",
       "25%               -10.193000  \n",
       "50%                -9.365300  \n",
       "75%                -8.522700  \n",
       "max                65.839000  "
      ]
     },
     "execution_count": 5,
     "metadata": {},
     "output_type": "execute_result"
    }
   ],
   "source": [
    "df_train.describe()"
   ]
  },
  {
   "cell_type": "code",
   "execution_count": 6,
   "metadata": {},
   "outputs": [
    {
     "data": {
      "text/plain": [
       "<matplotlib.axes._subplots.AxesSubplot at 0x1a483554a8>"
      ]
     },
     "execution_count": 6,
     "metadata": {},
     "output_type": "execute_result"
    },
    {
     "data": {
      "image/png": "[encoded data removed]",
      "text/plain": [
       "<Figure size 1728x720 with 3 Axes>"
      ]
     },
     "metadata": {},
     "output_type": "display_data"
    }
   ],
   "source": [
    "missingno.bar(df_test)"
   ]
  },
  {
   "cell_type": "code",
   "execution_count": 7,
   "metadata": {},
   "outputs": [
    {
     "data": {
      "text/plain": [
       "True"
      ]
     },
     "execution_count": 7,
     "metadata": {},
     "output_type": "execute_result"
    }
   ],
   "source": [
    "# Check if the 'series_id' column is ordered(ascending)\n",
    "df_train[\"series_id\"].is_monotonic"
   ]
  },
  {
   "cell_type": "code",
   "execution_count": 8,
   "metadata": {},
   "outputs": [
    {
     "data": {
      "text/html": [
       "<div>\n",
       "<style scoped>\n",
       "    .dataframe tbody tr th:only-of-type {\n",
       "        vertical-align: middle;\n",
       "    }\n",
       "\n",
       "    .dataframe tbody tr th {\n",
       "        vertical-align: top;\n",
       "    }\n",
       "\n",
       "    .dataframe thead th {\n",
       "        text-align: right;\n",
       "    }\n",
       "</style>\n",
       "<table border=\"1\" class=\"dataframe\">\n",
       "  <thead>\n",
       "    <tr style=\"text-align: right;\">\n",
       "      <th></th>\n",
       "      <th>row_id</th>\n",
       "      <th>measurement_number</th>\n",
       "      <th>orientation_X</th>\n",
       "      <th>orientation_Y</th>\n",
       "      <th>orientation_Z</th>\n",
       "      <th>orientation_W</th>\n",
       "      <th>angular_velocity_X</th>\n",
       "      <th>angular_velocity_Y</th>\n",
       "      <th>angular_velocity_Z</th>\n",
       "      <th>linear_acceleration_X</th>\n",
       "      <th>linear_acceleration_Y</th>\n",
       "      <th>linear_acceleration_Z</th>\n",
       "    </tr>\n",
       "    <tr>\n",
       "      <th>series_id</th>\n",
       "      <th></th>\n",
       "      <th></th>\n",
       "      <th></th>\n",
       "      <th></th>\n",
       "      <th></th>\n",
       "      <th></th>\n",
       "      <th></th>\n",
       "      <th></th>\n",
       "      <th></th>\n",
       "      <th></th>\n",
       "      <th></th>\n",
       "      <th></th>\n",
       "    </tr>\n",
       "  </thead>\n",
       "  <tbody>\n",
       "    <tr>\n",
       "      <th>0</th>\n",
       "      <td>128</td>\n",
       "      <td>128</td>\n",
       "      <td>128</td>\n",
       "      <td>128</td>\n",
       "      <td>128</td>\n",
       "      <td>128</td>\n",
       "      <td>128</td>\n",
       "      <td>128</td>\n",
       "      <td>128</td>\n",
       "      <td>128</td>\n",
       "      <td>128</td>\n",
       "      <td>128</td>\n",
       "    </tr>\n",
       "    <tr>\n",
       "      <th>1</th>\n",
       "      <td>128</td>\n",
       "      <td>128</td>\n",
       "      <td>128</td>\n",
       "      <td>128</td>\n",
       "      <td>128</td>\n",
       "      <td>128</td>\n",
       "      <td>128</td>\n",
       "      <td>128</td>\n",
       "      <td>128</td>\n",
       "      <td>128</td>\n",
       "      <td>128</td>\n",
       "      <td>128</td>\n",
       "    </tr>\n",
       "    <tr>\n",
       "      <th>2</th>\n",
       "      <td>128</td>\n",
       "      <td>128</td>\n",
       "      <td>128</td>\n",
       "      <td>128</td>\n",
       "      <td>128</td>\n",
       "      <td>128</td>\n",
       "      <td>128</td>\n",
       "      <td>128</td>\n",
       "      <td>128</td>\n",
       "      <td>128</td>\n",
       "      <td>128</td>\n",
       "      <td>128</td>\n",
       "    </tr>\n",
       "    <tr>\n",
       "      <th>3</th>\n",
       "      <td>128</td>\n",
       "      <td>128</td>\n",
       "      <td>128</td>\n",
       "      <td>128</td>\n",
       "      <td>128</td>\n",
       "      <td>128</td>\n",
       "      <td>128</td>\n",
       "      <td>128</td>\n",
       "      <td>128</td>\n",
       "      <td>128</td>\n",
       "      <td>128</td>\n",
       "      <td>128</td>\n",
       "    </tr>\n",
       "    <tr>\n",
       "      <th>4</th>\n",
       "      <td>128</td>\n",
       "      <td>128</td>\n",
       "      <td>128</td>\n",
       "      <td>128</td>\n",
       "      <td>128</td>\n",
       "      <td>128</td>\n",
       "      <td>128</td>\n",
       "      <td>128</td>\n",
       "      <td>128</td>\n",
       "      <td>128</td>\n",
       "      <td>128</td>\n",
       "      <td>128</td>\n",
       "    </tr>\n",
       "    <tr>\n",
       "      <th>5</th>\n",
       "      <td>128</td>\n",
       "      <td>128</td>\n",
       "      <td>128</td>\n",
       "      <td>128</td>\n",
       "      <td>128</td>\n",
       "      <td>128</td>\n",
       "      <td>128</td>\n",
       "      <td>128</td>\n",
       "      <td>128</td>\n",
       "      <td>128</td>\n",
       "      <td>128</td>\n",
       "      <td>128</td>\n",
       "    </tr>\n",
       "    <tr>\n",
       "      <th>6</th>\n",
       "      <td>128</td>\n",
       "      <td>128</td>\n",
       "      <td>128</td>\n",
       "      <td>128</td>\n",
       "      <td>128</td>\n",
       "      <td>128</td>\n",
       "      <td>128</td>\n",
       "      <td>128</td>\n",
       "      <td>128</td>\n",
       "      <td>128</td>\n",
       "      <td>128</td>\n",
       "      <td>128</td>\n",
       "    </tr>\n",
       "    <tr>\n",
       "      <th>7</th>\n",
       "      <td>128</td>\n",
       "      <td>128</td>\n",
       "      <td>128</td>\n",
       "      <td>128</td>\n",
       "      <td>128</td>\n",
       "      <td>128</td>\n",
       "      <td>128</td>\n",
       "      <td>128</td>\n",
       "      <td>128</td>\n",
       "      <td>128</td>\n",
       "      <td>128</td>\n",
       "      <td>128</td>\n",
       "    </tr>\n",
       "    <tr>\n",
       "      <th>8</th>\n",
       "      <td>128</td>\n",
       "      <td>128</td>\n",
       "      <td>128</td>\n",
       "      <td>128</td>\n",
       "      <td>128</td>\n",
       "      <td>128</td>\n",
       "      <td>128</td>\n",
       "      <td>128</td>\n",
       "      <td>128</td>\n",
       "      <td>128</td>\n",
       "      <td>128</td>\n",
       "      <td>128</td>\n",
       "    </tr>\n",
       "    <tr>\n",
       "      <th>9</th>\n",
       "      <td>128</td>\n",
       "      <td>128</td>\n",
       "      <td>128</td>\n",
       "      <td>128</td>\n",
       "      <td>128</td>\n",
       "      <td>128</td>\n",
       "      <td>128</td>\n",
       "      <td>128</td>\n",
       "      <td>128</td>\n",
       "      <td>128</td>\n",
       "      <td>128</td>\n",
       "      <td>128</td>\n",
       "    </tr>\n",
       "  </tbody>\n",
       "</table>\n",
       "</div>"
      ],
      "text/plain": [
       "           row_id  measurement_number  orientation_X  orientation_Y  \\\n",
       "series_id                                                             \n",
       "0             128                 128            128            128   \n",
       "1             128                 128            128            128   \n",
       "2             128                 128            128            128   \n",
       "3             128                 128            128            128   \n",
       "4             128                 128            128            128   \n",
       "5             128                 128            128            128   \n",
       "6             128                 128            128            128   \n",
       "7             128                 128            128            128   \n",
       "8             128                 128            128            128   \n",
       "9             128                 128            128            128   \n",
       "\n",
       "           orientation_Z  orientation_W  angular_velocity_X  \\\n",
       "series_id                                                     \n",
       "0                    128            128                 128   \n",
       "1                    128            128                 128   \n",
       "2                    128            128                 128   \n",
       "3                    128            128                 128   \n",
       "4                    128            128                 128   \n",
       "5                    128            128                 128   \n",
       "6                    128            128                 128   \n",
       "7                    128            128                 128   \n",
       "8                    128            128                 128   \n",
       "9                    128            128                 128   \n",
       "\n",
       "           angular_velocity_Y  angular_velocity_Z  linear_acceleration_X  \\\n",
       "series_id                                                                  \n",
       "0                         128                 128                    128   \n",
       "1                         128                 128                    128   \n",
       "2                         128                 128                    128   \n",
       "3                         128                 128                    128   \n",
       "4                         128                 128                    128   \n",
       "5                         128                 128                    128   \n",
       "6                         128                 128                    128   \n",
       "7                         128                 128                    128   \n",
       "8                         128                 128                    128   \n",
       "9                         128                 128                    128   \n",
       "\n",
       "           linear_acceleration_Y  linear_acceleration_Z  \n",
       "series_id                                                \n",
       "0                            128                    128  \n",
       "1                            128                    128  \n",
       "2                            128                    128  \n",
       "3                            128                    128  \n",
       "4                            128                    128  \n",
       "5                            128                    128  \n",
       "6                            128                    128  \n",
       "7                            128                    128  \n",
       "8                            128                    128  \n",
       "9                            128                    128  "
      ]
     },
     "execution_count": 8,
     "metadata": {},
     "output_type": "execute_result"
    }
   ],
   "source": [
    "# Quickly verifying the fact that we have 128 measurements per series_id.\n",
    "df_train.groupby(\"series_id\").count().head(10)"
   ]
  },
  {
   "cell_type": "code",
   "execution_count": 9,
   "metadata": {},
   "outputs": [
    {
     "name": "stdout",
     "output_type": "stream",
     "text": [
      "df_y shape = (3810, 3)\n"
     ]
    },
    {
     "data": {
      "text/html": [
       "<div>\n",
       "<style scoped>\n",
       "    .dataframe tbody tr th:only-of-type {\n",
       "        vertical-align: middle;\n",
       "    }\n",
       "\n",
       "    .dataframe tbody tr th {\n",
       "        vertical-align: top;\n",
       "    }\n",
       "\n",
       "    .dataframe thead th {\n",
       "        text-align: right;\n",
       "    }\n",
       "</style>\n",
       "<table border=\"1\" class=\"dataframe\">\n",
       "  <thead>\n",
       "    <tr style=\"text-align: right;\">\n",
       "      <th></th>\n",
       "      <th>series_id</th>\n",
       "      <th>group_id</th>\n",
       "      <th>surface</th>\n",
       "    </tr>\n",
       "  </thead>\n",
       "  <tbody>\n",
       "    <tr>\n",
       "      <th>0</th>\n",
       "      <td>0</td>\n",
       "      <td>13</td>\n",
       "      <td>fine_concrete</td>\n",
       "    </tr>\n",
       "    <tr>\n",
       "      <th>1</th>\n",
       "      <td>1</td>\n",
       "      <td>31</td>\n",
       "      <td>concrete</td>\n",
       "    </tr>\n",
       "    <tr>\n",
       "      <th>2</th>\n",
       "      <td>2</td>\n",
       "      <td>20</td>\n",
       "      <td>concrete</td>\n",
       "    </tr>\n",
       "    <tr>\n",
       "      <th>3</th>\n",
       "      <td>3</td>\n",
       "      <td>31</td>\n",
       "      <td>concrete</td>\n",
       "    </tr>\n",
       "    <tr>\n",
       "      <th>4</th>\n",
       "      <td>4</td>\n",
       "      <td>22</td>\n",
       "      <td>soft_tiles</td>\n",
       "    </tr>\n",
       "  </tbody>\n",
       "</table>\n",
       "</div>"
      ],
      "text/plain": [
       "   series_id  group_id        surface\n",
       "0          0        13  fine_concrete\n",
       "1          1        31       concrete\n",
       "2          2        20       concrete\n",
       "3          3        31       concrete\n",
       "4          4        22     soft_tiles"
      ]
     },
     "execution_count": 9,
     "metadata": {},
     "output_type": "execute_result"
    }
   ],
   "source": [
    "# Read and view targets for the training set\n",
    "df_y = pd.read_csv(\"y_train.csv\")\n",
    "print('df_y shape = ' + str(df_y.shape))\n",
    "df_y.head()"
   ]
  },
  {
   "cell_type": "code",
   "execution_count": 10,
   "metadata": {},
   "outputs": [
    {
     "data": {
      "text/plain": [
       "<matplotlib.axes._subplots.AxesSubplot at 0x1a3d938160>"
      ]
     },
     "execution_count": 10,
     "metadata": {},
     "output_type": "execute_result"
    },
    {
     "data": {
      "image/png": "[encoded data removed]",
      "text/plain": [
       "<Figure size 1728x720 with 3 Axes>"
      ]
     },
     "metadata": {},
     "output_type": "display_data"
    }
   ],
   "source": [
    "missingno.bar(df_y)"
   ]
  },
  {
   "cell_type": "code",
   "execution_count": 11,
   "metadata": {},
   "outputs": [
    {
     "data": {
      "text/plain": [
       "series_id    3810\n",
       "group_id       73\n",
       "surface         9\n",
       "dtype: int64"
      ]
     },
     "execution_count": 11,
     "metadata": {},
     "output_type": "execute_result"
    }
   ],
   "source": [
    "df_y.nunique()"
   ]
  },
  {
   "cell_type": "code",
   "execution_count": 12,
   "metadata": {},
   "outputs": [
    {
     "data": {
      "text/plain": [
       "<matplotlib.axes._subplots.AxesSubplot at 0x1a3da2b908>"
      ]
     },
     "execution_count": 12,
     "metadata": {},
     "output_type": "execute_result"
    },
    {
     "data": {
      "image/png": "[encoded data removed]",
      "text/plain": [
       "<Figure size 576x396 with 1 Axes>"
      ]
     },
     "metadata": {},
     "output_type": "display_data"
    }
   ],
   "source": [
    "# df_y[\"surface\"].value_counts().plot(kind=\"barh\", figsize=(14,8), fontsize=12)\n",
    "sns.countplot(y='surface', data=df_y, order=df_y['surface'].value_counts().index)"
   ]
  },
  {
   "cell_type": "markdown",
   "metadata": {},
   "source": [
    "**Check Density plot to view distribution**"
   ]
  },
  {
   "cell_type": "code",
   "execution_count": 13,
   "metadata": {},
   "outputs": [
    {
     "data": {
      "text/plain": [
       "<Figure size 576x396 with 0 Axes>"
      ]
     },
     "metadata": {},
     "output_type": "display_data"
    },
    {
     "data": {
      "image/png": "[encoded data removed]",
      "text/plain": [
       "<Figure size 1224x648 with 10 Axes>"
      ]
     },
     "metadata": {},
     "output_type": "display_data"
    }
   ],
   "source": [
    "def plot_feature_distribution(df1, df2, label1, label2, features,a=2,b=5):\n",
    "    i = 0\n",
    "    sns.set_style('darkgrid')\n",
    "    plt.figure()\n",
    "    fig, ax = plt.subplots(a,b,figsize=(17,9))\n",
    "\n",
    "    for feature in features:\n",
    "        i += 1\n",
    "        plt.subplot(a,b,i)\n",
    "        sns.kdeplot(df1[feature], bw=0.5,label=label1, color ='k')\n",
    "        sns.kdeplot(df2[feature], bw=0.5,label=label2, color = 'r')\n",
    "        plt.xlabel(feature, fontsize=9)\n",
    "        locs, labels = plt.xticks()\n",
    "        plt.tick_params(axis='x', which='major', labelsize=8)\n",
    "        plt.tick_params(axis='y', which='major', labelsize=8)\n",
    "    plt.show();\n",
    "\n",
    "features = df_train.columns.values[3:]\n",
    "plot_feature_distribution(df_train, df_test, 'train', 'test', features)"
   ]
  },
  {
   "cell_type": "markdown",
   "metadata": {},
   "source": [
    "## Encode the target (surface values) for training and predictions:"
   ]
  },
  {
   "cell_type": "code",
   "execution_count": 14,
   "metadata": {},
   "outputs": [
    {
     "name": "stdout",
     "output_type": "stream",
     "text": [
      "Class encodings:-\n",
      "['carpet' 'concrete' 'fine_concrete' 'hard_tiles' 'hard_tiles_large_space'\n",
      " 'soft_pvc' 'soft_tiles' 'tiled' 'wood']\n",
      "y_count = 9\n"
     ]
    }
   ],
   "source": [
    "# Label Encode training target value.\n",
    "encoder = LabelEncoder()\n",
    "y = encoder.fit_transform(df_y[\"surface\"])\n",
    "y_count = len(list(encoder.classes_))\n",
    "print('Class encodings:-')\n",
    "print(encoder.classes_)\n",
    "print('y_count = ' + str(y_count))"
   ]
  },
  {
   "cell_type": "code",
   "execution_count": 15,
   "metadata": {},
   "outputs": [
    {
     "name": "stdout",
     "output_type": "stream",
     "text": [
      "Label Mapping legend:-\n",
      "{0: 'carpet', 1: 'concrete', 2: 'fine_concrete', 3: 'hard_tiles', 4: 'hard_tiles_large_space', 5: 'soft_pvc', 6: 'soft_tiles', 7: 'tiled', 8: 'wood'}\n"
     ]
    }
   ],
   "source": [
    "# Map labels to encoded values\n",
    "label_mapping = {i: l for i, l in enumerate(encoder.classes_)}\n",
    "print(\"Label Mapping legend:-\")\n",
    "print(label_mapping)"
   ]
  },
  {
   "cell_type": "markdown",
   "metadata": {},
   "source": [
    "---------------------------------------------------------------------------------------------------\n",
    "We know that we have 128 different values per series_id. This has been verified before :-\n",
    "487680/128 = 3810 -> df_y.shape"
   ]
  },
  {
   "cell_type": "code",
   "execution_count": 16,
   "metadata": {},
   "outputs": [],
   "source": [
    "# Map train target values such that len(df_train) = len(df_y)\n",
    "# Create a new column \"target\" in df_train\n",
    "df_train[\"target\"] = y.repeat(128)"
   ]
  },
  {
   "cell_type": "code",
   "execution_count": 17,
   "metadata": {},
   "outputs": [
    {
     "data": {
      "text/html": [
       "<div>\n",
       "<style scoped>\n",
       "    .dataframe tbody tr th:only-of-type {\n",
       "        vertical-align: middle;\n",
       "    }\n",
       "\n",
       "    .dataframe tbody tr th {\n",
       "        vertical-align: top;\n",
       "    }\n",
       "\n",
       "    .dataframe thead th {\n",
       "        text-align: right;\n",
       "    }\n",
       "</style>\n",
       "<table border=\"1\" class=\"dataframe\">\n",
       "  <thead>\n",
       "    <tr style=\"text-align: right;\">\n",
       "      <th></th>\n",
       "      <th>series_id</th>\n",
       "      <th>orientation_X</th>\n",
       "      <th>orientation_Y</th>\n",
       "      <th>orientation_Z</th>\n",
       "      <th>target</th>\n",
       "    </tr>\n",
       "  </thead>\n",
       "  <tbody>\n",
       "    <tr>\n",
       "      <th>0</th>\n",
       "      <td>0</td>\n",
       "      <td>-0.75853</td>\n",
       "      <td>-0.63435</td>\n",
       "      <td>-0.10488</td>\n",
       "      <td>2</td>\n",
       "    </tr>\n",
       "    <tr>\n",
       "      <th>1</th>\n",
       "      <td>0</td>\n",
       "      <td>-0.75853</td>\n",
       "      <td>-0.63434</td>\n",
       "      <td>-0.10490</td>\n",
       "      <td>2</td>\n",
       "    </tr>\n",
       "    <tr>\n",
       "      <th>2</th>\n",
       "      <td>0</td>\n",
       "      <td>-0.75853</td>\n",
       "      <td>-0.63435</td>\n",
       "      <td>-0.10492</td>\n",
       "      <td>2</td>\n",
       "    </tr>\n",
       "    <tr>\n",
       "      <th>3</th>\n",
       "      <td>0</td>\n",
       "      <td>-0.75852</td>\n",
       "      <td>-0.63436</td>\n",
       "      <td>-0.10495</td>\n",
       "      <td>2</td>\n",
       "    </tr>\n",
       "    <tr>\n",
       "      <th>4</th>\n",
       "      <td>0</td>\n",
       "      <td>-0.75852</td>\n",
       "      <td>-0.63435</td>\n",
       "      <td>-0.10495</td>\n",
       "      <td>2</td>\n",
       "    </tr>\n",
       "  </tbody>\n",
       "</table>\n",
       "</div>"
      ],
      "text/plain": [
       "   series_id  orientation_X  orientation_Y  orientation_Z  target\n",
       "0          0       -0.75853       -0.63435       -0.10488       2\n",
       "1          0       -0.75853       -0.63434       -0.10490       2\n",
       "2          0       -0.75853       -0.63435       -0.10492       2\n",
       "3          0       -0.75852       -0.63436       -0.10495       2\n",
       "4          0       -0.75852       -0.63435       -0.10495       2"
      ]
     },
     "execution_count": 17,
     "metadata": {},
     "output_type": "execute_result"
    }
   ],
   "source": [
    "# Verify changes to df_train\n",
    "df_train[[\"series_id\", \"orientation_X\", \"orientation_Y\", \"orientation_Z\", \"target\"]].head()"
   ]
  },
  {
   "cell_type": "code",
   "execution_count": 27,
   "metadata": {},
   "outputs": [],
   "source": [
    "# https://stackoverflow.com/questions/53033620/how-to-convert-euler-angles-to-quaternions-and-get-the-same-euler-angles-back-fr?rq=1\n",
    "def quaternion_to_euler(x, y, z, w):\n",
    "    import math\n",
    "    t0 = +2.0 * (w * x + y * z)\n",
    "    t1 = +1.0 - 2.0 * (x * x + y * y)\n",
    "    X = math.atan2(t0, t1)\n",
    "\n",
    "    t2 = +2.0 * (w * y - z * x)\n",
    "    t2 = +1.0 if t2 > +1.0 else t2\n",
    "    t2 = -1.0 if t2 < -1.0 else t2\n",
    "    Y = math.asin(t2)\n",
    "\n",
    "    t3 = +2.0 * (w * z + x * y)\n",
    "    t4 = +1.0 - 2.0 * (y * y + z * z)\n",
    "    Z = math.atan2(t3, t4)\n",
    "\n",
    "    return X, Y, Z\n",
    "\n",
    "def fe(actual):\n",
    "\n",
    "    actual['total_angular_velocity'] = (actual['angular_velocity_X'] ** 2 + actual['angular_velocity_Y'] ** 2 + actual['angular_velocity_Z'] ** 2) ** 0.5\n",
    "    actual['total_linear_acceleration'] = (actual['linear_acceleration_X'] ** 2 + actual['linear_acceleration_Y'] ** 2 + actual['linear_acceleration_Z'] ** 2) ** 0.5\n",
    "    \n",
    "    actual['acc_vs_vel'] = actual['total_linear_acceleration'] / actual['total_angular_velocity']\n",
    "    \n",
    "    df = actual\n",
    "    \n",
    "    xyz = np.vectorize(quaternion_to_euler)(df['orientation_X'], df['orientation_Y'], df['orientation_Z'], df['orientation_W'])\n",
    "    actual['euler_x'] = xyz[0]\n",
    "    actual['euler_y'] = xyz[1]\n",
    "    actual['euler_z'] = xyz[2]\n",
    "    \n",
    "    actual['total_angle'] = (actual['euler_x'] ** 2 + actual['euler_y'] ** 2 + actual['euler_z'] ** 2) ** 5\n",
    "    actual['angle_vs_acc'] = actual['total_angle'] / actual['total_linear_acceleration']\n",
    "    actual['angle_vs_vel'] = actual['total_angle'] / actual['total_angular_velocity']\n",
    "    \n",
    "    # By this point the dataframe 'actual' (could be df_train or df_test) has 9 new columns :-\n",
    "    # 1. total_angular_velocity\n",
    "    # 2. total_linear_acceleration\n",
    "    # 3. acc_vs_vel\n",
    "    # 4. euler_x\n",
    "    # 5. euler_y\n",
    "    # 6. euler_z\n",
    "    # 7. total_angle\n",
    "    # 8. angle_vs_acc\n",
    "    # 9. angle_vs_vel\n",
    "    \n",
    "    # The 'df' DataFrame has all columns that df_train/df_test had previously and only the first 3 newly added columns.\n",
    "    \n",
    "    # Create a groupby object, grouped on 'series_id'\n",
    "    series_groups = df.groupby(\"series_id\")\n",
    "    \n",
    "    \n",
    "    def fx_sum(x):\n",
    "        abs_max = np.max(np.abs(x)) # in return array\n",
    "        abs_min = np.min(np.abs(x)) # in return array\n",
    "        \n",
    "        abs_diff = np.abs(np.diff(x))\n",
    "        \n",
    "        abs_diff_avg = np.mean(abs_diff) # in return array\n",
    "        \n",
    "        abs_diff_diff = np.abs(np.diff(abs_diff))\n",
    "        \n",
    "        abs_diff_diff_avg = np.mean(abs_diff_diff) # in return array\n",
    "        sum_diff = np.sum(np.diff(x)) # in return array\n",
    "        sum_abs_diff = np.sum(abs_diff) # in return array\n",
    "        count_diffs = np.count_nonzero(x) # in return array\n",
    "        \n",
    "        # Note: all the values that are returned within the sum_array are of type - np.float64 i.e single value!\n",
    "        sum_array = np.array((abs_max, abs_min, abs_diff_avg, abs_diff_diff_avg, \n",
    "                              sum_diff, sum_abs_diff, count_diffs))\n",
    "        # sum_array has 7 elements\n",
    "        return sum_array\n",
    "    \n",
    "    # Creating a blank dataframe 'new'\n",
    "    new = pd.DataFrame()\n",
    "    \n",
    "    for col in tqdm(actual.columns):\n",
    "        if col in ['row_id', 'series_id', 'measurement_number', 'target']:\n",
    "            continue\n",
    "\n",
    "        new[col + '_mean'] = series_groups[col].mean()\n",
    "        new[col + '_min'] = series_groups[col].min()\n",
    "        new[col + '_max'] = series_groups[col].max()\n",
    "        new[col + '_std'] = series_groups[col].std()\n",
    "        new[col + '_max_to_min'] = new[col + '_max'] / new[col + '_min']\n",
    "\n",
    "        xyz = series_groups[col].apply(fx_sum) # shape = (3810(train) or 3816(test),) - has arrays within an array, \n",
    "                                               # each subarray shape = (7,)\n",
    "           \n",
    "        # Converting xyz into a single array of shape (3810 or 3816, 7)\n",
    "        rows = len(series_groups) # 3810(train) or 3816(test)\n",
    "        col_count = len(xyz[0]) # the count returned by fx_sum(x) -> 7\n",
    "        xyz_sum = np.concatenate(xyz).reshape(rows, col_count) # array shape = (3810 or 3816, 7) - single array\n",
    "        \n",
    "        column_names = [col+\"_abs_max\", col+\"_abs_min\", \n",
    "                        col+\"_abs_diff_avg\", col+\"_abs_diff_diff_avg\",\n",
    "                        col+\"_sum_diff\", col+\"_sum_abs_diff\",\n",
    "                        col+\"_count_diff\"\n",
    "                       ]\n",
    "        # Converting xyz_sum(array) to a dataframe (df_xyz_sum) of shape (3810, 7)\n",
    "        df_xyz_sum = pd.DataFrame(xyz_sum, columns=column_names)\n",
    "        # Making the shape of new as (3810, 7+5) i.e (3810, 12) -> 12 * 19(num_cols(23) - [row_id,series_id,measure_no.,target]) = 228\n",
    "        new = pd.concat([new, df_xyz_sum], axis=1)\n",
    "        \n",
    "#         # Now xyz is an \"arrays within an array\" of shape = (3810,). Each subarray is of shape = (3, 128)\n",
    "#         # where the 3 rows correspond to the outputs of fx_raw which are not single values but arrays of\n",
    "#         # length 128 in this case.\n",
    "#         xyz = series_groups[col].apply(fx_raw)\n",
    "        \n",
    "#         # convert to shape = (3, 487680), in case of df_train. So, each row corresponds to output of fx_raw\n",
    "#         xyz_c = np.concatenate(xyz, axis=1)\n",
    "#         # convert xyz_c to a dataframe of shape = (487680, 3)\n",
    "#         df_xyz_raw = pd.DataFrame({col+\"_abs_diff\": xyz_c[0],\n",
    "#                                    col+\"_abs_diff_diff\": xyz_c[1],\n",
    "#                                    col+\"_diff\": xyz_c[2]\n",
    "#                                    })\n",
    "#         #this could become an infinite loop as this loop is over columns in \"actual\" and this adds more columns to it\n",
    "#         #but this does not happen, so i guess the column set is only read at start of loop\n",
    "        \n",
    "#         # concatenate dataframes 'actual' and 'df_xyz_raw' into a dataframe with length 487680.\n",
    "#         # Note: sub dataframes 'actual' & 'df_xyz_raw' both are of length 487680.\n",
    "#         actual = pd.concat([actual, df_xyz_raw], axis=1)\n",
    "\n",
    "        # 'actual' has now 12 additional columns (9(above operations)+3(df_xyz_raw)) and length = 487680\n",
    "        # 'new' was a dataframe created within the function 'fe' and returned with a size(3810, 12),\n",
    "        # where 5 columns were added and the resulting dataframe was concatenated with df_xyz_sum(with 7 columns)\n",
    "        \n",
    "        # Therefore, additional columns in 'actual':-\n",
    "        # 1. total_angular_velocity\n",
    "        # 2. total_linear_acceleration\n",
    "        # 3. acc_vs_vel\n",
    "        # 4. euler_x\n",
    "        # 5. euler_y\n",
    "        # 6. euler_z\n",
    "        # 7. total_angle\n",
    "        # 8. angle_vs_acc\n",
    "        # 9. angle_vs_vel\n",
    "        # 10. abs_diff\n",
    "        # 11. abs_diff_diff\n",
    "        # 12. diff\n",
    "        \n",
    "        # Therefore, created columns in 'new':-\n",
    "        # 1. mean\n",
    "        # 2. min\n",
    "        # 3. max\n",
    "        # 4. std\n",
    "        # 5. max_to_min\n",
    "        # 6. abs_max\n",
    "        # 7. abs_min\n",
    "        # 8. abs_diff_avg\n",
    "        # 9. abs_diff_diff_avg\n",
    "        # 10. sum_diff\n",
    "        # 11. sum_abs_diff\n",
    "        # 12. count_diff\n",
    "\n",
    "    return new\n",
    "# Note: We will use only the 'new' dataframe as df_train_sum of shape (3810, 228). Hence I have commented out \n",
    "# the 'actual' dataframe."
   ]
  },
  {
   "cell_type": "markdown",
   "metadata": {},
   "source": [
    "**Explanation for how the 'new' dataframe returned from 'fe' has a shape(3810, 228)**\n",
    "\n",
    "Aggregation is carried out on the groupby object df_train/df_test.groupby('series_id) to get length = 3810\n",
    "Initially df_train/df_test has following columns:-\n",
    "1. row_id\n",
    "2. series_id\n",
    "3. measurement_number\n",
    "4. orientation_X\n",
    "5. orientation_Y\n",
    "6. orientation_Z\n",
    "7. orientation_W\n",
    "8. angular_velocity_X\n",
    "9. angular_velocity_Y\n",
    "10. angular_velocity_Z\n",
    "11. linear_acceleration_X\n",
    "12. linear_acceleration_Y\n",
    "13. linear_acceleration_Z\n",
    "14. target\n",
    "\n",
    "At the end/output of function 'fe' the dataframe df_train_sum/df_test_sum has following columns : -\n",
    "1. orientation_X\n",
    "2. orientation_Y\n",
    "3. orientation_Z\n",
    "4. orientation_W\n",
    "5. angular_velocity_X\n",
    "6. angular_velocity_Y\n",
    "7. angular_velocity_Z\n",
    "7. linear_acceleration_X\n",
    "9. linear_acceleration_Y\n",
    "10. linear_acceleration_Z\n",
    "11. total_angular_velocity\n",
    "12. total_linear_acceleration\n",
    "13. acc_vs_vel\n",
    "14. euler_X\n",
    "15. euler_Y\n",
    "16. euler_Z\n",
    "17. total_angle\n",
    "18. angle_vs_acc\n",
    "19. angle_vs_vel\n",
    "\n",
    "And each of these 19 columns has following columns: -\n",
    "1. abs_max                 - > From fx_sum(x)\n",
    "2. abs_min\n",
    "3. abs_diff_avg\n",
    "4. abs_diff_diff_avg\n",
    "5. sum_diff\n",
    "6. sum_abs_diff\n",
    "7. count_diffs\n",
    "\n",
    "8. mean\n",
    "9. min\n",
    "10. max\n",
    "11. std\n",
    "12. max_to_min\n",
    "\n",
    "Therefore, total number of columns = 19 * 12 = 228"
   ]
  },
  {
   "cell_type": "code",
   "execution_count": 28,
   "metadata": {},
   "outputs": [
    {
     "name": "stderr",
     "output_type": "stream",
     "text": [
      "100%|██████████| 23/23 [00:39<00:00,  1.70s/it]\n"
     ]
    }
   ],
   "source": [
    "# Call the function 'fe' on df_train\n",
    "df_train_sum = fe(df_train)"
   ]
  },
  {
   "cell_type": "code",
   "execution_count": 29,
   "metadata": {},
   "outputs": [
    {
     "name": "stdout",
     "output_type": "stream",
     "text": [
      "(3810, 228)\n",
      "(487680, 23)\n"
     ]
    }
   ],
   "source": [
    "print(df_train_sum.shape) # (3810, 228) = 19(original no of coulumns = columns) * 12(new columns per original columns)\n",
    "print(df_train.shape) # (487680, 80) = To understand how 80 columns you can print columns for df_train.\n",
    "# df_train.columns"
   ]
  },
  {
   "cell_type": "code",
   "execution_count": 30,
   "metadata": {},
   "outputs": [
    {
     "name": "stderr",
     "output_type": "stream",
     "text": [
      "100%|██████████| 22/22 [00:38<00:00,  1.74s/it]\n"
     ]
    }
   ],
   "source": [
    "# Call the fe function on df_test\n",
    "df_test_sum = fe(df_test)"
   ]
  },
  {
   "cell_type": "markdown",
   "metadata": {},
   "source": [
    "## Scale and Save the Processed Data:"
   ]
  },
  {
   "cell_type": "markdown",
   "metadata": {},
   "source": [
    "First pick the columns to scale:"
   ]
  },
  {
   "cell_type": "code",
   "execution_count": 36,
   "metadata": {},
   "outputs": [
    {
     "data": {
      "text/plain": [
       "19"
      ]
     },
     "execution_count": 36,
     "metadata": {},
     "output_type": "execute_result"
    }
   ],
   "source": [
    "feature_cols = list(df_train.columns)\n",
    "feature_cols.remove('row_id')\n",
    "feature_cols.remove('series_id')\n",
    "feature_cols.remove('measurement_number')\n",
    "feature_cols.remove('target')\n",
    "len(feature_cols)"
   ]
  },
  {
   "cell_type": "code",
   "execution_count": 37,
   "metadata": {},
   "outputs": [
    {
     "data": {
      "text/plain": [
       "Index(['row_id', 'series_id', 'measurement_number', 'orientation_X',\n",
       "       'orientation_Y', 'orientation_Z', 'orientation_W', 'angular_velocity_X',\n",
       "       'angular_velocity_Y', 'angular_velocity_Z', 'linear_acceleration_X',\n",
       "       'linear_acceleration_Y', 'linear_acceleration_Z', 'target',\n",
       "       'total_angular_velocity', 'total_linear_acceleration', 'acc_vs_vel',\n",
       "       'euler_x', 'euler_y', 'euler_z', 'total_angle', 'angle_vs_acc',\n",
       "       'angle_vs_vel'],\n",
       "      dtype='object')"
      ]
     },
     "execution_count": 37,
     "metadata": {},
     "output_type": "execute_result"
    }
   ],
   "source": [
    "df_train.columns"
   ]
  },
  {
   "cell_type": "code",
   "execution_count": null,
   "metadata": {},
   "outputs": [],
   "source": [
    "# feature_cols"
   ]
  },
  {
   "cell_type": "markdown",
   "metadata": {},
   "source": [
    "Before scaling anything, save the unscaled versions. This allows using this kernel as datasource for different data formats in other kernels, without repeating all the processing."
   ]
  },
  {
   "cell_type": "code",
   "execution_count": null,
   "metadata": {},
   "outputs": [],
   "source": [
    "# Already ran below code hence commented out.\n",
    "\n",
    "# df_train.to_csv(\"features_train_raw.csv\")\n",
    "# df_test.to_csv(\"features_test_raw.csv\")\n",
    "# df_train_sum.to_csv(\"features_train_sum.csv\")\n",
    "# df_test_sum.to_csv(\"features_test_sum.csv\")"
   ]
  },
  {
   "cell_type": "code",
   "execution_count": null,
   "metadata": {},
   "outputs": [],
   "source": [
    "#function to scale two dataframes. fit and transform the first (e.g., training set), \n",
    "#and use the same scaler to transform the seconds one (e.g., test set)\n",
    "def scale_df(df1, df2, feature_cols):\n",
    "    \"\"\"Function to standard scale features for train(df1) and test set(df2)\"\"\"\n",
    "    \n",
    "    # Instantiate the standard scaler\n",
    "    scaler = StandardScaler()\n",
    "    \n",
    "    # Create scaled features\n",
    "    scaled_features = scaler.fit_transform(df1[feature_cols])\n",
    "    \n",
    "    # Set df1 features to scaled features\n",
    "    df1[feature_cols] = scaled_features\n",
    "    \n",
    "    # Repeat steps for test set\n",
    "    scaled_test_features = scaler.transform(df2[feature_cols])\n",
    "    df2[feature_cols] = scaled_test_features\n",
    "    \n",
    "    # Return standard scaled train and test dataframes\n",
    "    return df1, df2"
   ]
  },
  {
   "cell_type": "markdown",
   "metadata": {},
   "source": [
    "Scale the \"raw\" dataframes first."
   ]
  },
  {
   "cell_type": "markdown",
   "metadata": {},
   "source": [
    "Note: 'raw' refers to the dataframe without any grouping based on series_id i.e length of dataframe = 487680.\n",
    "        raw dataframes here are df_train and df_test obtained after calling fe function on df_train and df_test               respectively."
   ]
  },
  {
   "cell_type": "code",
   "execution_count": null,
   "metadata": {},
   "outputs": [],
   "source": [
    "# df_train, df_test = scale_df(df_train, df_test, feature_cols)"
   ]
  },
  {
   "cell_type": "code",
   "execution_count": null,
   "metadata": {},
   "outputs": [],
   "source": [
    "# df_train.describe()"
   ]
  },
  {
   "cell_type": "markdown",
   "metadata": {},
   "source": [
    "Now scale the \"summary\" dataframe similarly."
   ]
  },
  {
   "cell_type": "code",
   "execution_count": null,
   "metadata": {},
   "outputs": [],
   "source": [
    "#appears we stripped the columns in this summary dataframe already(when we called the 'fe' function earlier)\n",
    "#, so we can just use those columns as is\n",
    "df_train_sum, df_test_sum = scale_df(df_train_sum, df_test_sum, df_train_sum.columns)"
   ]
  },
  {
   "cell_type": "markdown",
   "metadata": {},
   "source": [
    "And save the scaled in the same way as the un-scaled before:"
   ]
  },
  {
   "cell_type": "code",
   "execution_count": null,
   "metadata": {},
   "outputs": [],
   "source": [
    "# Has already been run hence commented out\n",
    "\n",
    "# df_train.to_csv(\"features_train_scaled_raw.csv\")\n",
    "# df_test.to_csv(\"features_test_scaled_raw.csv\")\n",
    "# df_train_sum.to_csv(\"features_train_scaled_sum.csv\")\n",
    "# df_test_sum.to_csv(\"features_test_scaled_sum.csv\")"
   ]
  },
  {
   "cell_type": "markdown",
   "metadata": {},
   "source": [
    "# Cross Validation:"
   ]
  },
  {
   "cell_type": "code",
   "execution_count": null,
   "metadata": {},
   "outputs": [],
   "source": [
    "# def get_score(model, x_train, x_test, y_train, y_test):\n",
    "    \n",
    "#     model.fit(x_train, y_train)\n",
    "#     predictions = model.predict(x_test)\n",
    "# #     return accuracy_score(y_test, predictions) Use this statment or below statement. You will get the same result!\n",
    "#     return model.score(x_test, y_test)"
   ]
  },
  {
   "cell_type": "markdown",
   "metadata": {},
   "source": [
    "## Remove Orientation data - Red Herring"
   ]
  },
  {
   "cell_type": "code",
   "execution_count": null,
   "metadata": {},
   "outputs": [],
   "source": [
    "df_train_sum = df_train_sum[list(df_train_sum.columns)[48:]]\n",
    "df_test_sum = df_test_sum[list(df_test_sum.columns)[48:]]"
   ]
  },
  {
   "cell_type": "code",
   "execution_count": null,
   "metadata": {},
   "outputs": [],
   "source": [
    "df_train_sum.shape"
   ]
  },
  {
   "cell_type": "code",
   "execution_count": null,
   "metadata": {},
   "outputs": [],
   "source": [
    "# model_final = Sequential()\n",
    "#     model_final.add(Dense(180, activation='relu', input_shape=(228,)))\n",
    "#     model_final.add(Dense(100, activation='relu'))\n",
    "#     # model_final.add(Dropout(0.2))\n",
    "#     model_final.add(Dense(75, activation='relu'))\n",
    "#     # model_final.add(Dropout(0.2))\n",
    "#     model_final.add(Dense(50, activation='relu'))\n",
    "#     # model_final.add(Dropout(0.2))\n",
    "#     model_final.add(Dense(30, activation='relu'))\n",
    "#     # model_final.add(Dropout(0.2))\n",
    "#     model_final.add(Dense(30, activation='relu'))\n",
    "#     # model_final.add(Dropout(0.2))\n",
    "#     model_final.add(Dense(15, activation='relu'))\n",
    "#     # model_final.add(Dropout(0.2))\n",
    "#     model_final.add(Dense(9, activation='softmax'))\n",
    "#     # compile the keras model\n",
    "#     model_final.compile(loss = \"categorical_crossentropy\", optimizer = \"adam\", metrics = [\"accuracy\"])"
   ]
  },
  {
   "cell_type": "markdown",
   "metadata": {},
   "source": [
    "## Cross Validation"
   ]
  },
  {
   "cell_type": "code",
   "execution_count": null,
   "metadata": {},
   "outputs": [],
   "source": [
    "# def get_score(model, x_train, x_test, y_train, y_test):\n",
    "    \n",
    "#     model.fit(x_train, y_train)\n",
    "#     return model.score(x_test, y_test)\n",
    "\n",
    "# skf = StratifiedKFold(n_splits=10)\n",
    "\n",
    "# scores_rf = []\n",
    "# scores_knn = []\n",
    "# scores_xgb = []\n",
    "# scores_fnn = []\n",
    "\n",
    "# for train_idx, test_idx in skf.split(df_train_sum, y):\n",
    "    \n",
    "#     train, train_labels = df_train_sum.iloc[train_idx], y[train_idx]\n",
    "#     test, test_labels = df_train_sum.iloc[test_idx], y[test_idx]\n",
    "    \n",
    "#     # Train and get scores for classifiers.\n",
    "#     score_rf = get_score(RandomForestClassifier(n_estimators=50), train, test, train_labels, test_labels)\n",
    "# #     score_knn = get_score(KNeighborsClassifier(n_neighbors=10, weights='distance', metric='euclidean'), train, test, train_labels, test_labels)\n",
    "# #     score_xgb = get_score(XGBClassifier(min_samples_split=2, min_samples_leaf=1,learning_rate=0.6,n_estimators=150), train, test, train_labels, test_labels)\n",
    "    \n",
    "# #     # Store scores in separate lists\n",
    "# #     scores_xgb.append(score_xgb)\n",
    "#     scores_rf.append(score_rf)\n",
    "# #     scores_knn.append(score_knn)\n",
    "    \n",
    "    \n",
    "#     # Creating a full connected neural net\n",
    "    \n",
    "#     # define the keras model\n",
    "# #     model_final = Sequential()\n",
    "# #     model_final.add(Dense(180, activation='relu', input_shape=(180,)))\n",
    "# # #     model_final.add(Dense(100, activation='relu'))\n",
    "# # #     model_final.add(Dropout(0.2))\n",
    "# #     model_final.add(Dense(120, activation='relu'))\n",
    "# # #     model_final.add(Dropout(0.2))\n",
    "# #     model_final.add(Dense(70, activation='relu'))\n",
    "# # #     model_final.add(Dropout(0.2))\n",
    "# #     model_final.add(Dense(30, activation='relu'))\n",
    "# #     # model_final.add(Dropout(0.2))\n",
    "# # #     model_final.add(Dense(30, activation='relu'))\n",
    "# #     # model_final.add(Dropout(0.2))\n",
    "# # #     model_final.add(Dense(15, activation='relu'))\n",
    "# #     # model_final.add(Dropout(0.2))\n",
    "# #     model_final.add(Dense(9, activation='softmax'))\n",
    "# #     # compile the keras model\n",
    "# #     model_final.compile(loss = \"categorical_crossentropy\", optimizer = \"adam\", metrics = [\"accuracy\"])\n",
    "# #     # fit the keras model on the dataset\n",
    "# #     ytrain_binary = to_categorical(train_labels)\n",
    "# #     model_final.fit(train, ytrain_binary, epochs=20, shuffle=True, class_weight=\"balanced\")\n",
    "# #     # make class predictions with the model\n",
    "# #     binary_test = to_categorical(test_labels)\n",
    "# #     # Get score/accuracy\n",
    "# #     score_loss, score_accuracy = model_final.evaluate(test, binary_test)\n",
    "    \n",
    "#     # Append score\n",
    "# #     scores_fnn.append(score_accuracy)\n",
    "    \n",
    "    \n",
    "# # # Display scores\n",
    "# print(\"Performance of classifiers : -\")\n",
    "# print(\"Random forest classifier mean accuracy = \" + str(np.mean(scores_rf)*100) + \"%\")\n",
    "# # print(\"kNearestNeighbors classifier mean accuracy = \" + str(np.mean(scores_knn)*100) + \"%\")\n",
    "# # print(\"XGBoost classifier mean accuracy = \" + str(np.mean(scores_xgb)*100) + \"%\")\n",
    "# # print(\"Fully connected neural net classifier mean accuracy = \" + str(np.mean(scores_fnn)*100) + \"%\")"
   ]
  },
  {
   "cell_type": "markdown",
   "metadata": {},
   "source": [
    "## Get predicitons on test set for Submission!"
   ]
  },
  {
   "cell_type": "code",
   "execution_count": null,
   "metadata": {},
   "outputs": [],
   "source": [
    "df_train_sum.shape"
   ]
  },
  {
   "cell_type": "code",
   "execution_count": null,
   "metadata": {},
   "outputs": [],
   "source": [
    "df_test_sum.shape"
   ]
  },
  {
   "cell_type": "code",
   "execution_count": null,
   "metadata": {},
   "outputs": [],
   "source": [
    "# 'rf' -> Random Forest Classifier\n",
    "# 'knn' -> K Nearest Neighbors Classifier\n",
    "# 'xgb' -> XG Boost Classifier\n",
    "# 'fnn' -> Fully connected neural network classifier\n",
    "\n",
    "classifier = 'knn' # Valid values = 'rf', 'knn', 'xgb', 'fnn' \n",
    "\n",
    "if classifier == 'rf':\n",
    "    rf = RandomForestClassifier(n_estimators=100)\n",
    "    rf.fit(df_train_sum, y)\n",
    "    predictions = rf.predict(df_test_sum)\n",
    "    \n",
    "elif classifier == 'knn':\n",
    "    knn = KNeighborsClassifier(n_neighbors=4, weights='distance', metric='euclidean') # Try metric='euclidean',\n",
    "                                                                  # n_neighbors between (1,21)\n",
    "                                                                  # n_classes = 9(odd) so k->even!\n",
    "    knn.fit(df_train_sum, y)\n",
    "    predictions = knn.predict(df_test_sum)\n",
    "    \n",
    "elif classifier == 'xgb':\n",
    "    xgb = XGBClassifier(min_samples_split=2, min_samples_leaf=1,learning_rate=0.6,n_estimators=150)\n",
    "    xgb.fit(df_train_sum, y)\n",
    "    predictions = xgb.predict(df_test_sum)\n",
    "    \n",
    "elif classifier == 'fnn':\n",
    "    # Private LB score = 0.6224, Public LB score = 0.5442\n",
    "    model_final = Sequential()\n",
    "    model_final.add(Dense(180, activation='relu', input_shape=(180,)))\n",
    "#     model_final.add(Dense(100, activation='relu'))\n",
    "#     model_final.add(Dropout(0.2))\n",
    "    model_final.add(Dense(120, activation='relu'))\n",
    "#     model_final.add(Dropout(0.2))\n",
    "    model_final.add(Dense(70, activation='relu'))\n",
    "#     model_final.add(Dropout(0.2))\n",
    "    model_final.add(Dense(30, activation='relu'))\n",
    "    # model_final.add(Dropout(0.2))\n",
    "#     model_final.add(Dense(30, activation='relu'))\n",
    "    # model_final.add(Dropout(0.2))\n",
    "#     model_final.add(Dense(15, activation='relu'))\n",
    "    # model_final.add(Dropout(0.2))\n",
    "    model_final.add(Dense(9, activation='softmax'))\n",
    "    # compile the keras model\n",
    "    model_final.compile(loss = \"categorical_crossentropy\", optimizer = \"adam\", metrics = [\"accuracy\"])\n",
    "    # fit the keras model on the dataset\n",
    "    ytrain_binary = to_categorical(y)\n",
    "    model_final.fit(df_train_sum, ytrain_binary, epochs=20, shuffle=True, class_weight=\"balanced\")\n",
    "    # make class predictions with the model\n",
    "\n",
    "    predictions = model_final.predict(df_test_sum)\n",
    "    \n",
    "else:\n",
    "    print('Invalid classifier name!')\n",
    "    \n",
    "ss = pd.read_csv('sample_submission.csv')\n",
    "if classifier == 'fnn':\n",
    "    predictions = encoder.inverse_transform(np.argmax(predictions, axis=1))\n",
    "else:\n",
    "    predictions = encoder.inverse_transform(predictions)\n",
    "ss['surface'] = predictions\n",
    "print(predictions)    \n",
    "ss.to_csv('knn_top', index=False)\n",
    "\n"
   ]
  },
  {
   "cell_type": "code",
   "execution_count": null,
   "metadata": {},
   "outputs": [],
   "source": [
    "# Private LB score = 0.6361, Public LB score = 0.5782\n",
    " \n",
    "# model_final = Sequential()\n",
    "# model_final.add(Dense(100, activation='relu',input_shape=(228,)))\n",
    "# model_final.add(Dense(50, activation='relu'))\n",
    "# #     modelnn.add(Dropout(0.2))\n",
    "# model_final.add(Dense(30, activation='relu'))\n",
    "# #     modelnn.add(Dropout(0.2))\n",
    "# model_final.add(Dense(20, activation='relu'))\n",
    "# #     modelnn.add(Dropout(0.2))\n",
    "# model_final.add(Dense(20, activation='relu'))\n",
    "# #     modelnn.add(Dropout(0.2))\n",
    "# model_final.add(Dense(9, activation='softmax'))\n",
    "# # compile the keras model\n",
    "\n"
   ]
  },
  {
   "cell_type": "code",
   "execution_count": null,
   "metadata": {},
   "outputs": [],
   "source": []
  },
  {
   "cell_type": "code",
   "execution_count": null,
   "metadata": {},
   "outputs": [],
   "source": []
  }
 ],
 "metadata": {
  "kernelspec": {
   "display_name": "Python 3",
   "language": "python",
   "name": "python3"
  },
  "language_info": {
   "codemirror_mode": {
    "name": "ipython",
    "version": 3
   },
   "file_extension": ".py",
   "mimetype": "text/x-python",
   "name": "python",
   "nbconvert_exporter": "python",
   "pygments_lexer": "ipython3",
   "version": "3.7.3"
  }
 },
 "nbformat": 4,
 "nbformat_minor": 2
}
